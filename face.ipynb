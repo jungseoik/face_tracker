{
 "cells": [
  {
   "cell_type": "markdown",
   "metadata": {},
   "source": [
    "\n",
    "```bash\n",
    "conda create -n YOLO8 python=3.9\n",
    "\n",
    "pip install ultralytics\n",
    "```"
   ]
  },
  {
   "cell_type": "code",
   "execution_count": 2,
   "metadata": {},
   "outputs": [
    {
     "name": "stdout",
     "output_type": "stream",
     "text": [
      "c:\\Users\\user\\miniconda3\\envs\\YOLO8\\python.exe\n"
     ]
    }
   ],
   "source": [
    "import sys\n",
    "print(sys.executable)"
   ]
  },
  {
   "cell_type": "code",
   "execution_count": 1,
   "metadata": {},
   "outputs": [
    {
     "name": "stdout",
     "output_type": "stream",
     "text": [
      "\n",
      "image 1/1 c:\\Users\\user\\Desktop\\face-detection-yolov8-main\\face.jpg: 480x640 1 FACE, 67.1ms\n",
      "Speed: 4.0ms preprocess, 67.1ms inference, 1.0ms postprocess per image at shape (1, 3, 480, 640)\n"
     ]
    },
    {
     "data": {
      "text/plain": [
       "True"
      ]
     },
     "execution_count": 1,
     "metadata": {},
     "output_type": "execute_result"
    }
   ],
   "source": [
    "# 필요한 라이브러리를 가져옵니다\n",
    "from ultralytics import YOLO\n",
    "import cv2\n",
    "\n",
    "# YOLO 모델을 지정된 가중치 파일(\"best.pt\")로 로드합니다\n",
    "model = YOLO(\"best.pt\")\n",
    "\n",
    "# 입력 이미지의 경로를 지정합니다\n",
    "img_path = \"face.jpg\"\n",
    "\n",
    "# YOLO를 사용하여 이미지에서 객체 감지를 실행합니다\n",
    "results = model(img_path)\n",
    "\n",
    "# 감지된 객체의 경계 상자를 가져옵니다\n",
    "boxes = results[0].boxes\n",
    "\n",
    "# 입력 이미지를 읽어옵니다\n",
    "img = cv2.imread(img_path)\n",
    "\n",
    "# 감지된 객체 주위에 사각형을 그립니다\n",
    "for box in boxes:\n",
    "    top_left_x = int(box.xyxy.tolist()[0][0])\n",
    "    top_left_y = int(box.xyxy.tolist()[0][1])\n",
    "    bottom_right_x = int(box.xyxy.tolist()[0][2])\n",
    "    bottom_right_y = int(box.xyxy.tolist()[0][3])\n",
    "\n",
    "    # 이미지 위에 사각형을 그립니다\n",
    "    cv2.rectangle(img, (top_left_x, top_left_y), (bottom_right_x, bottom_right_y), (50, 200, 129), 2) #색상 값과 선 두께\n",
    "# (50, 200, 129):\n",
    "# BGR (파란색, 초록색, 빨간색) 색상 값\n",
    "# 2 # 선의 두께가 2픽셀임\n",
    "cv2.imwrite(\"testing.jpeg\", img)\n"
   ]
  },
  {
   "cell_type": "code",
   "execution_count": 4,
   "metadata": {},
   "outputs": [],
   "source": [
    "import cv2\n",
    "from ultralytics import YOLO\n",
    "\n",
    "# Load a model\n",
    "model = YOLO(\"yolov8n.pt\")  # COCO dataset으로 pretrained된 model을 불러옴"
   ]
  }
 ],
 "metadata": {
  "kernelspec": {
   "display_name": "cudaJung",
   "language": "python",
   "name": "python3"
  },
  "language_info": {
   "codemirror_mode": {
    "name": "ipython",
    "version": 3
   },
   "file_extension": ".py",
   "mimetype": "text/x-python",
   "name": "python",
   "nbconvert_exporter": "python",
   "pygments_lexer": "ipython3",
   "version": "3.9.18"
  }
 },
 "nbformat": 4,
 "nbformat_minor": 2
}
